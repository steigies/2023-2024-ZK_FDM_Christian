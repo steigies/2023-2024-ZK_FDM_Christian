{
 "cells": [
  {
   "cell_type": "code",
   "execution_count": 1,
   "metadata": {},
   "outputs": [],
   "source": [
    "import pandas as pd"
   ]
  },
  {
   "cell_type": "markdown",
   "metadata": {},
   "source": [
    "## Merge Dataframes \n",
    "Wir erstellen zwei DataFrames einer enthält DOIs und den Namen des Journals der andere DOIs und den first author.\n",
    "\n",
    "Manche DOIs befinden sich in beiden Dataframes, andere nur in Einem. \n",
    "\n",
    "Wir möchten die Dataframes anhand der DOIs zusammenführen."
   ]
  },
  {
   "cell_type": "code",
   "execution_count": 2,
   "metadata": {},
   "outputs": [],
   "source": [
    "doi_df_journal = pd.DataFrame({\n",
    "    \"DOI\": [\n",
    "        \"10.1371/journal.pcbi.1004668\",\n",
    "        \"10.21105/joss.01035\",\n",
    "        \"10.12688/f1000research.18866.2\",\n",
    "        \"10.1038/s41598-019-52881-4\",\n",
    "        \"10.1186/s12859-019-3171-0\"],\n",
    "    \"journal\": [\n",
    "        \"PLoS Comput Biol\",\n",
    "        \"JOSS\",\n",
    "        \"F1000Res\",\n",
    "        \"Sci Rep\",\n",
    "        \"BMC Bioinformatics\"]})\n",
    "\n",
    "doi_df_first_author = pd.DataFrame({\n",
    "    \"DOI\": [\n",
    "        \"10.1371/journal.pcbi.1004668\",\n",
    "        \"10.21105/joss.01035\",\n",
    "        \"10.21105/joss.01006\",\n",
    "        \"10.12688/f1000research.18866.2\",\n",
    "        \"10.1186/s12859-019-3171-0\"],\n",
    "    \"first_author\": [\n",
    "        \"Blischak\",\n",
    "        \"Sparks\",\n",
    "        \"Granger\",\n",
    "        \"Thang\",\n",
    "        \"Chen\"]})\n"
   ]
  },
  {
   "cell_type": "code",
   "execution_count": 3,
   "metadata": {},
   "outputs": [
    {
     "data": {
      "text/html": [
       "<div>\n",
       "<style scoped>\n",
       "    .dataframe tbody tr th:only-of-type {\n",
       "        vertical-align: middle;\n",
       "    }\n",
       "\n",
       "    .dataframe tbody tr th {\n",
       "        vertical-align: top;\n",
       "    }\n",
       "\n",
       "    .dataframe thead th {\n",
       "        text-align: right;\n",
       "    }\n",
       "</style>\n",
       "<table border=\"1\" class=\"dataframe\">\n",
       "  <thead>\n",
       "    <tr style=\"text-align: right;\">\n",
       "      <th></th>\n",
       "      <th>DOI</th>\n",
       "      <th>first_author</th>\n",
       "    </tr>\n",
       "  </thead>\n",
       "  <tbody>\n",
       "    <tr>\n",
       "      <th>0</th>\n",
       "      <td>10.1371/journal.pcbi.1004668</td>\n",
       "      <td>Blischak</td>\n",
       "    </tr>\n",
       "    <tr>\n",
       "      <th>1</th>\n",
       "      <td>10.21105/joss.01035</td>\n",
       "      <td>Sparks</td>\n",
       "    </tr>\n",
       "    <tr>\n",
       "      <th>2</th>\n",
       "      <td>10.21105/joss.01006</td>\n",
       "      <td>Granger</td>\n",
       "    </tr>\n",
       "    <tr>\n",
       "      <th>3</th>\n",
       "      <td>10.12688/f1000research.18866.2</td>\n",
       "      <td>Thang</td>\n",
       "    </tr>\n",
       "    <tr>\n",
       "      <th>4</th>\n",
       "      <td>10.1186/s12859-019-3171-0</td>\n",
       "      <td>Chen</td>\n",
       "    </tr>\n",
       "  </tbody>\n",
       "</table>\n",
       "</div>"
      ],
      "text/plain": [
       "                              DOI first_author\n",
       "0    10.1371/journal.pcbi.1004668     Blischak\n",
       "1             10.21105/joss.01035       Sparks\n",
       "2             10.21105/joss.01006      Granger\n",
       "3  10.12688/f1000research.18866.2        Thang\n",
       "4       10.1186/s12859-019-3171-0         Chen"
      ]
     },
     "execution_count": 3,
     "metadata": {},
     "output_type": "execute_result"
    }
   ],
   "source": [
    "doi_df_first_author"
   ]
  },
  {
   "cell_type": "code",
   "execution_count": 4,
   "metadata": {},
   "outputs": [
    {
     "data": {
      "text/html": [
       "<div>\n",
       "<style scoped>\n",
       "    .dataframe tbody tr th:only-of-type {\n",
       "        vertical-align: middle;\n",
       "    }\n",
       "\n",
       "    .dataframe tbody tr th {\n",
       "        vertical-align: top;\n",
       "    }\n",
       "\n",
       "    .dataframe thead th {\n",
       "        text-align: right;\n",
       "    }\n",
       "</style>\n",
       "<table border=\"1\" class=\"dataframe\">\n",
       "  <thead>\n",
       "    <tr style=\"text-align: right;\">\n",
       "      <th></th>\n",
       "      <th>DOI</th>\n",
       "      <th>journal</th>\n",
       "    </tr>\n",
       "  </thead>\n",
       "  <tbody>\n",
       "    <tr>\n",
       "      <th>0</th>\n",
       "      <td>10.1371/journal.pcbi.1004668</td>\n",
       "      <td>PLoS Comput Biol</td>\n",
       "    </tr>\n",
       "    <tr>\n",
       "      <th>1</th>\n",
       "      <td>10.21105/joss.01035</td>\n",
       "      <td>JOSS</td>\n",
       "    </tr>\n",
       "    <tr>\n",
       "      <th>2</th>\n",
       "      <td>10.12688/f1000research.18866.2</td>\n",
       "      <td>F1000Res</td>\n",
       "    </tr>\n",
       "    <tr>\n",
       "      <th>3</th>\n",
       "      <td>10.1038/s41598-019-52881-4</td>\n",
       "      <td>Sci Rep</td>\n",
       "    </tr>\n",
       "    <tr>\n",
       "      <th>4</th>\n",
       "      <td>10.1186/s12859-019-3171-0</td>\n",
       "      <td>BMC Bioinformatics</td>\n",
       "    </tr>\n",
       "  </tbody>\n",
       "</table>\n",
       "</div>"
      ],
      "text/plain": [
       "                              DOI             journal\n",
       "0    10.1371/journal.pcbi.1004668    PLoS Comput Biol\n",
       "1             10.21105/joss.01035                JOSS\n",
       "2  10.12688/f1000research.18866.2            F1000Res\n",
       "3      10.1038/s41598-019-52881-4             Sci Rep\n",
       "4       10.1186/s12859-019-3171-0  BMC Bioinformatics"
      ]
     },
     "execution_count": 4,
     "metadata": {},
     "output_type": "execute_result"
    }
   ],
   "source": [
    "doi_df_journal"
   ]
  },
  {
   "cell_type": "markdown",
   "metadata": {},
   "source": [
    "###  Left-Merge\n",
    "Es werden alle DOIs aufgeführt, die sich im linken bzw. erstgeschriebenen Dataframe befinden. \n",
    "\n",
    "Falls der rechte bzw. zweite Dataframe die DOI des linken nicht besitzt wird in den Spalten des rechten \"NaN\" statt eines Wertes eingefügt."
   ]
  },
  {
   "cell_type": "code",
   "execution_count": 5,
   "metadata": {},
   "outputs": [
    {
     "data": {
      "text/html": [
       "<div>\n",
       "<style scoped>\n",
       "    .dataframe tbody tr th:only-of-type {\n",
       "        vertical-align: middle;\n",
       "    }\n",
       "\n",
       "    .dataframe tbody tr th {\n",
       "        vertical-align: top;\n",
       "    }\n",
       "\n",
       "    .dataframe thead th {\n",
       "        text-align: right;\n",
       "    }\n",
       "</style>\n",
       "<table border=\"1\" class=\"dataframe\">\n",
       "  <thead>\n",
       "    <tr style=\"text-align: right;\">\n",
       "      <th></th>\n",
       "      <th>DOI</th>\n",
       "      <th>first_author</th>\n",
       "      <th>journal</th>\n",
       "    </tr>\n",
       "  </thead>\n",
       "  <tbody>\n",
       "    <tr>\n",
       "      <th>0</th>\n",
       "      <td>10.1371/journal.pcbi.1004668</td>\n",
       "      <td>Blischak</td>\n",
       "      <td>PLoS Comput Biol</td>\n",
       "    </tr>\n",
       "    <tr>\n",
       "      <th>1</th>\n",
       "      <td>10.21105/joss.01035</td>\n",
       "      <td>Sparks</td>\n",
       "      <td>JOSS</td>\n",
       "    </tr>\n",
       "    <tr>\n",
       "      <th>2</th>\n",
       "      <td>10.21105/joss.01006</td>\n",
       "      <td>Granger</td>\n",
       "      <td>NaN</td>\n",
       "    </tr>\n",
       "    <tr>\n",
       "      <th>3</th>\n",
       "      <td>10.12688/f1000research.18866.2</td>\n",
       "      <td>Thang</td>\n",
       "      <td>F1000Res</td>\n",
       "    </tr>\n",
       "    <tr>\n",
       "      <th>4</th>\n",
       "      <td>10.1186/s12859-019-3171-0</td>\n",
       "      <td>Chen</td>\n",
       "      <td>BMC Bioinformatics</td>\n",
       "    </tr>\n",
       "  </tbody>\n",
       "</table>\n",
       "</div>"
      ],
      "text/plain": [
       "                              DOI first_author             journal\n",
       "0    10.1371/journal.pcbi.1004668     Blischak    PLoS Comput Biol\n",
       "1             10.21105/joss.01035       Sparks                JOSS\n",
       "2             10.21105/joss.01006      Granger                 NaN\n",
       "3  10.12688/f1000research.18866.2        Thang            F1000Res\n",
       "4       10.1186/s12859-019-3171-0         Chen  BMC Bioinformatics"
      ]
     },
     "execution_count": 5,
     "metadata": {},
     "output_type": "execute_result"
    }
   ],
   "source": [
    "doi_df_first_author.merge(doi_df_journal, on=\"DOI\", how=\"left\")"
   ]
  },
  {
   "cell_type": "markdown",
   "metadata": {},
   "source": [
    "###  Aufgabe\n",
    "\n",
    "Führe einen \"right\", \"inner\" und einen \"outer\" Merge durch und schaue Dir die Ergebnisse dieser an."
   ]
  },
  {
   "cell_type": "code",
   "execution_count": 6,
   "metadata": {},
   "outputs": [
    {
     "data": {
      "text/html": [
       "<div>\n",
       "<style scoped>\n",
       "    .dataframe tbody tr th:only-of-type {\n",
       "        vertical-align: middle;\n",
       "    }\n",
       "\n",
       "    .dataframe tbody tr th {\n",
       "        vertical-align: top;\n",
       "    }\n",
       "\n",
       "    .dataframe thead th {\n",
       "        text-align: right;\n",
       "    }\n",
       "</style>\n",
       "<table border=\"1\" class=\"dataframe\">\n",
       "  <thead>\n",
       "    <tr style=\"text-align: right;\">\n",
       "      <th></th>\n",
       "      <th>DOI</th>\n",
       "      <th>first_author</th>\n",
       "      <th>journal</th>\n",
       "    </tr>\n",
       "  </thead>\n",
       "  <tbody>\n",
       "    <tr>\n",
       "      <th>0</th>\n",
       "      <td>10.1371/journal.pcbi.1004668</td>\n",
       "      <td>Blischak</td>\n",
       "      <td>PLoS Comput Biol</td>\n",
       "    </tr>\n",
       "    <tr>\n",
       "      <th>1</th>\n",
       "      <td>10.21105/joss.01035</td>\n",
       "      <td>Sparks</td>\n",
       "      <td>JOSS</td>\n",
       "    </tr>\n",
       "    <tr>\n",
       "      <th>2</th>\n",
       "      <td>10.12688/f1000research.18866.2</td>\n",
       "      <td>Thang</td>\n",
       "      <td>F1000Res</td>\n",
       "    </tr>\n",
       "    <tr>\n",
       "      <th>3</th>\n",
       "      <td>10.1038/s41598-019-52881-4</td>\n",
       "      <td>NaN</td>\n",
       "      <td>Sci Rep</td>\n",
       "    </tr>\n",
       "    <tr>\n",
       "      <th>4</th>\n",
       "      <td>10.1186/s12859-019-3171-0</td>\n",
       "      <td>Chen</td>\n",
       "      <td>BMC Bioinformatics</td>\n",
       "    </tr>\n",
       "  </tbody>\n",
       "</table>\n",
       "</div>"
      ],
      "text/plain": [
       "                              DOI first_author             journal\n",
       "0    10.1371/journal.pcbi.1004668     Blischak    PLoS Comput Biol\n",
       "1             10.21105/joss.01035       Sparks                JOSS\n",
       "2  10.12688/f1000research.18866.2        Thang            F1000Res\n",
       "3      10.1038/s41598-019-52881-4          NaN             Sci Rep\n",
       "4       10.1186/s12859-019-3171-0         Chen  BMC Bioinformatics"
      ]
     },
     "execution_count": 6,
     "metadata": {},
     "output_type": "execute_result"
    }
   ],
   "source": [
    "doi_df_first_author.merge(doi_df_journal, on=\"DOI\", how=\"right\")"
   ]
  },
  {
   "cell_type": "code",
   "execution_count": 7,
   "metadata": {},
   "outputs": [
    {
     "data": {
      "text/html": [
       "<div>\n",
       "<style scoped>\n",
       "    .dataframe tbody tr th:only-of-type {\n",
       "        vertical-align: middle;\n",
       "    }\n",
       "\n",
       "    .dataframe tbody tr th {\n",
       "        vertical-align: top;\n",
       "    }\n",
       "\n",
       "    .dataframe thead th {\n",
       "        text-align: right;\n",
       "    }\n",
       "</style>\n",
       "<table border=\"1\" class=\"dataframe\">\n",
       "  <thead>\n",
       "    <tr style=\"text-align: right;\">\n",
       "      <th></th>\n",
       "      <th>DOI</th>\n",
       "      <th>first_author</th>\n",
       "      <th>journal</th>\n",
       "    </tr>\n",
       "  </thead>\n",
       "  <tbody>\n",
       "    <tr>\n",
       "      <th>0</th>\n",
       "      <td>10.1371/journal.pcbi.1004668</td>\n",
       "      <td>Blischak</td>\n",
       "      <td>PLoS Comput Biol</td>\n",
       "    </tr>\n",
       "    <tr>\n",
       "      <th>1</th>\n",
       "      <td>10.21105/joss.01035</td>\n",
       "      <td>Sparks</td>\n",
       "      <td>JOSS</td>\n",
       "    </tr>\n",
       "    <tr>\n",
       "      <th>2</th>\n",
       "      <td>10.12688/f1000research.18866.2</td>\n",
       "      <td>Thang</td>\n",
       "      <td>F1000Res</td>\n",
       "    </tr>\n",
       "    <tr>\n",
       "      <th>3</th>\n",
       "      <td>10.1186/s12859-019-3171-0</td>\n",
       "      <td>Chen</td>\n",
       "      <td>BMC Bioinformatics</td>\n",
       "    </tr>\n",
       "  </tbody>\n",
       "</table>\n",
       "</div>"
      ],
      "text/plain": [
       "                              DOI first_author             journal\n",
       "0    10.1371/journal.pcbi.1004668     Blischak    PLoS Comput Biol\n",
       "1             10.21105/joss.01035       Sparks                JOSS\n",
       "2  10.12688/f1000research.18866.2        Thang            F1000Res\n",
       "3       10.1186/s12859-019-3171-0         Chen  BMC Bioinformatics"
      ]
     },
     "execution_count": 7,
     "metadata": {},
     "output_type": "execute_result"
    }
   ],
   "source": [
    "doi_df_first_author.merge(doi_df_journal, on=\"DOI\", how=\"inner\")"
   ]
  },
  {
   "cell_type": "code",
   "execution_count": 8,
   "metadata": {},
   "outputs": [
    {
     "data": {
      "text/html": [
       "<div>\n",
       "<style scoped>\n",
       "    .dataframe tbody tr th:only-of-type {\n",
       "        vertical-align: middle;\n",
       "    }\n",
       "\n",
       "    .dataframe tbody tr th {\n",
       "        vertical-align: top;\n",
       "    }\n",
       "\n",
       "    .dataframe thead th {\n",
       "        text-align: right;\n",
       "    }\n",
       "</style>\n",
       "<table border=\"1\" class=\"dataframe\">\n",
       "  <thead>\n",
       "    <tr style=\"text-align: right;\">\n",
       "      <th></th>\n",
       "      <th>DOI</th>\n",
       "      <th>first_author</th>\n",
       "      <th>journal</th>\n",
       "    </tr>\n",
       "  </thead>\n",
       "  <tbody>\n",
       "    <tr>\n",
       "      <th>0</th>\n",
       "      <td>10.1371/journal.pcbi.1004668</td>\n",
       "      <td>Blischak</td>\n",
       "      <td>PLoS Comput Biol</td>\n",
       "    </tr>\n",
       "    <tr>\n",
       "      <th>1</th>\n",
       "      <td>10.21105/joss.01035</td>\n",
       "      <td>Sparks</td>\n",
       "      <td>JOSS</td>\n",
       "    </tr>\n",
       "    <tr>\n",
       "      <th>2</th>\n",
       "      <td>10.21105/joss.01006</td>\n",
       "      <td>Granger</td>\n",
       "      <td>NaN</td>\n",
       "    </tr>\n",
       "    <tr>\n",
       "      <th>3</th>\n",
       "      <td>10.12688/f1000research.18866.2</td>\n",
       "      <td>Thang</td>\n",
       "      <td>F1000Res</td>\n",
       "    </tr>\n",
       "    <tr>\n",
       "      <th>4</th>\n",
       "      <td>10.1186/s12859-019-3171-0</td>\n",
       "      <td>Chen</td>\n",
       "      <td>BMC Bioinformatics</td>\n",
       "    </tr>\n",
       "    <tr>\n",
       "      <th>5</th>\n",
       "      <td>10.1038/s41598-019-52881-4</td>\n",
       "      <td>NaN</td>\n",
       "      <td>Sci Rep</td>\n",
       "    </tr>\n",
       "  </tbody>\n",
       "</table>\n",
       "</div>"
      ],
      "text/plain": [
       "                              DOI first_author             journal\n",
       "0    10.1371/journal.pcbi.1004668     Blischak    PLoS Comput Biol\n",
       "1             10.21105/joss.01035       Sparks                JOSS\n",
       "2             10.21105/joss.01006      Granger                 NaN\n",
       "3  10.12688/f1000research.18866.2        Thang            F1000Res\n",
       "4       10.1186/s12859-019-3171-0         Chen  BMC Bioinformatics\n",
       "5      10.1038/s41598-019-52881-4          NaN             Sci Rep"
      ]
     },
     "execution_count": 8,
     "metadata": {},
     "output_type": "execute_result"
    }
   ],
   "source": [
    "doi_df_first_author.merge(doi_df_journal, on=\"DOI\", how=\"outer\")"
   ]
  },
  {
   "cell_type": "code",
   "execution_count": null,
   "metadata": {},
   "outputs": [],
   "source": []
  }
 ],
 "metadata": {
  "kernelspec": {
   "display_name": "Python 3 (ipykernel)",
   "language": "python",
   "name": "python3"
  },
  "language_info": {
   "codemirror_mode": {
    "name": "ipython",
    "version": 3
   },
   "file_extension": ".py",
   "mimetype": "text/x-python",
   "name": "python",
   "nbconvert_exporter": "python",
   "pygments_lexer": "ipython3",
   "version": "3.11.2"
  }
 },
 "nbformat": 4,
 "nbformat_minor": 4
}
